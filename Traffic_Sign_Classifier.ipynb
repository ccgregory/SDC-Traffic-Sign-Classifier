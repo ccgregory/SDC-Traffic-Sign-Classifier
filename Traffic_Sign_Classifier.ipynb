{
 "cells": [
  {
   "cell_type": "markdown",
   "metadata": {},
   "source": [
    "# Self-Driving Car Engineer Nanodegree\n",
    "\n",
    "## Deep Learning\n",
    "\n",
    "## Project: Build a Traffic Sign Recognition Classifier\n",
    "\n",
    "In this notebook, a template is provided for you to implement your functionality in stages, which is required to successfully complete this project. If additional code is required that cannot be included in the notebook, be sure that the Python code is successfully imported and included in your submission if necessary. \n",
    "\n",
    "> **Note**: Once you have completed all of the code implementations, you need to finalize your work by exporting the iPython Notebook as an HTML document. Before exporting the notebook to html, all of the code cells need to have been run so that reviewers can see the final implementation and output. You can then export the notebook by using the menu above and navigating to  \\n\",\n",
    "    \"**File -> Download as -> HTML (.html)**. Include the finished document along with this notebook as your submission. \n",
    "\n",
    "In addition to implementing code, there is a writeup to complete. The writeup should be completed in a separate file, which can be either a markdown file or a pdf document. There is a [write up template](https://github.com/udacity/CarND-Traffic-Sign-Classifier-Project/blob/master/writeup_template.md) that can be used to guide the writing process. Completing the code template and writeup template will cover all of the [rubric points](https://review.udacity.com/#!/rubrics/481/view) for this project.\n",
    "\n",
    "The [rubric](https://review.udacity.com/#!/rubrics/481/view) contains \"Stand Out Suggestions\" for enhancing the project beyond the minimum requirements. The stand out suggestions are optional. If you decide to pursue the \"stand out suggestions\", you can include the code in this Ipython notebook and also discuss the results in the writeup file.\n",
    "\n",
    "\n",
    ">**Note:** Code and Markdown cells can be executed using the **Shift + Enter** keyboard shortcut. In addition, Markdown cells can be edited by typically double-clicking the cell to enter edit mode."
   ]
  },
  {
   "cell_type": "markdown",
   "metadata": {},
   "source": [
    "---\n",
    "## Step 0: Load The Data"
   ]
  },
  {
   "cell_type": "code",
   "execution_count": 4,
   "metadata": {},
   "outputs": [],
   "source": [
    "# Imports\n",
    "import pickle\n",
    "import numpy as np\n",
    "\n",
    "# TODO: Fill this in based on where you saved the training and testing data\n",
    "\n",
    "training_file = 'train.p'\n",
    "validation_file= 'valid.p'\n",
    "testing_file = 'test.p'\n",
    "\n",
    "with open(training_file, mode='rb') as f:\n",
    "    train = pickle.load(f)\n",
    "with open(validation_file, mode='rb') as f:\n",
    "    valid = pickle.load(f)\n",
    "with open(testing_file, mode='rb') as f:\n",
    "    test = pickle.load(f)\n",
    "    \n",
    "X_train, y_train = train['features'], train['labels']\n",
    "X_valid, y_valid = valid['features'], valid['labels']\n",
    "X_test, y_test = test['features'], test['labels']"
   ]
  },
  {
   "cell_type": "markdown",
   "metadata": {},
   "source": [
    "---\n",
    "\n",
    "## Step 1: Dataset Summary & Exploration\n",
    "\n",
    "The pickled data is a dictionary with 4 key/value pairs:\n",
    "\n",
    "- `'features'` is a 4D array containing raw pixel data of the traffic sign images, (num examples, width, height, channels).\n",
    "- `'labels'` is a 1D array containing the label/class id of the traffic sign. The file `signnames.csv` contains id -> name mappings for each id.\n",
    "- `'sizes'` is a list containing tuples, (width, height) representing the original width and height the image.\n",
    "- `'coords'` is a list containing tuples, (x1, y1, x2, y2) representing coordinates of a bounding box around the sign in the image. **THESE COORDINATES ASSUME THE ORIGINAL IMAGE. THE PICKLED DATA CONTAINS RESIZED VERSIONS (32 by 32) OF THESE IMAGES**\n",
    "\n",
    "Complete the basic data summary below. Use python, numpy and/or pandas methods to calculate the data summary rather than hard coding the results. For example, the [pandas shape method](http://pandas.pydata.org/pandas-docs/stable/generated/pandas.DataFrame.shape.html) might be useful for calculating some of the summary results. "
   ]
  },
  {
   "cell_type": "markdown",
   "metadata": {},
   "source": [
    "### Provide a Basic Summary of the Data Set Using Python, Numpy and/or Pandas"
   ]
  },
  {
   "cell_type": "code",
   "execution_count": 5,
   "metadata": {},
   "outputs": [
    {
     "name": "stdout",
     "output_type": "stream",
     "text": [
      "Number of training examples = 34799\n",
      "Number of testing examples = 12630\n",
      "Number of validation examples = 4410\n",
      "Image data shape = (32, 32, 3)\n",
      "Number of classes = 43\n"
     ]
    }
   ],
   "source": [
    "### Replace each question mark with the appropriate value. \n",
    "### Use python, pandas or numpy methods rather than hard coding the results\n",
    "import pandas as pd\n",
    "\n",
    "# TODO: Number of training examples\n",
    "n_train = len(train['features'])\n",
    "\n",
    "# TODO: Number of validation examples\n",
    "n_valid = len(valid['features'])\n",
    "\n",
    "# TODO: Number of testing examples.\n",
    "n_test = len(test['features'])\n",
    "\n",
    "# TODO: What's the shape of an traffic sign image?\n",
    "image_shape = np.shape(X_train[1])\n",
    "\n",
    "# TODO: How many unique classes/labels there are in the dataset.\n",
    "n_classes = len(np.unique(y_train))\n",
    "\n",
    "print(\"Number of training examples =\", n_train)\n",
    "print(\"Number of testing examples =\", n_test)\n",
    "print(\"Number of validation examples =\", n_valid)\n",
    "print(\"Image data shape =\", image_shape)\n",
    "print(\"Number of classes =\", n_classes)"
   ]
  },
  {
   "cell_type": "markdown",
   "metadata": {},
   "source": [
    "### Include an exploratory visualization of the dataset"
   ]
  },
  {
   "cell_type": "markdown",
   "metadata": {},
   "source": [
    "Visualize the German Traffic Signs Dataset using the pickled file(s). This is open ended, suggestions include: plotting traffic sign images, plotting the count of each sign, etc. \n",
    "\n",
    "The [Matplotlib](http://matplotlib.org/) [examples](http://matplotlib.org/examples/index.html) and [gallery](http://matplotlib.org/gallery.html) pages are a great resource for doing visualizations in Python.\n",
    "\n",
    "**NOTE:** It's recommended you start with something simple first. If you wish to do more, come back to it after you've completed the rest of the sections. It can be interesting to look at the distribution of classes in the training, validation and test set. Is the distribution the same? Are there more examples of some classes than others?"
   ]
  },
  {
   "cell_type": "code",
   "execution_count": 6,
   "metadata": {},
   "outputs": [
    {
     "name": "stdout",
     "output_type": "stream",
     "text": [
      "38\n"
     ]
    },
    {
     "data": {
      "image/png": "[encoded data removed]",
      "text/plain": [
       "<matplotlib.figure.Figure at 0x15b027a6a0>"
      ]
     },
     "metadata": {},
     "output_type": "display_data"
    }
   ],
   "source": [
    "### Data exploration visualization code goes here.\n",
    "### Feel free to use as many code cells as needed.\n",
    "# Visualizations will be shown in the notebook.\n",
    "import random\n",
    "import matplotlib.pyplot as plt\n",
    "%matplotlib inline\n",
    "\n",
    "index = random.randint(0, len(X_train))\n",
    "image = X_train[index].squeeze()\n",
    "\n",
    "plt.figure(figsize=(1,1))\n",
    "plt.imshow(image)\n",
    "print(y_train[index])"
   ]
  },
  {
   "cell_type": "markdown",
   "metadata": {},
   "source": [
    "----\n",
    "\n",
    "## Step 2: Design and Test a Model Architecture\n",
    "\n",
    "Design and implement a deep learning model that learns to recognize traffic signs. Train and test your model on the [German Traffic Sign Dataset](http://benchmark.ini.rub.de/?section=gtsrb&subsection=dataset).\n",
    "\n",
    "The LeNet-5 implementation shown in the [classroom](https://classroom.udacity.com/nanodegrees/nd013/parts/fbf77062-5703-404e-b60c-95b78b2f3f9e/modules/6df7ae49-c61c-4bb2-a23e-6527e69209ec/lessons/601ae704-1035-4287-8b11-e2c2716217ad/concepts/d4aca031-508f-4e0b-b493-e7b706120f81) at the end of the CNN lesson is a solid starting point. You'll have to change the number of classes and possibly the preprocessing, but aside from that it's plug and play! \n",
    "\n",
    "With the LeNet-5 solution from the lecture, you should expect a validation set accuracy of about 0.89. To meet specifications, the validation set accuracy will need to be at least 0.93. It is possible to get an even higher accuracy, but 0.93 is the minimum for a successful project submission. \n",
    "\n",
    "There are various aspects to consider when thinking about this problem:\n",
    "\n",
    "- Neural network architecture (is the network over or underfitting?)\n",
    "- Play around preprocessing techniques (normalization, rgb to grayscale, etc)\n",
    "- Number of examples per label (some have more than others).\n",
    "- Generate fake data.\n",
    "\n",
    "Here is an example of a [published baseline model on this problem](http://yann.lecun.com/exdb/publis/pdf/sermanet-ijcnn-11.pdf). It's not required to be familiar with the approach used in the paper but, it's good practice to try to read papers like these."
   ]
  },
  {
   "cell_type": "markdown",
   "metadata": {},
   "source": [
    "### Pre-process the Data Set (normalization, grayscale, etc.)"
   ]
  },
  {
   "cell_type": "markdown",
   "metadata": {},
   "source": [
    "Minimally, the image data should be normalized so that the data has mean zero and equal variance. For image data, `(pixel - 128)/ 128` is a quick way to approximately normalize the data and can be used in this project. \n",
    "\n",
    "Other pre-processing steps are optional. You can try different techniques to see if it improves performance. \n",
    "\n",
    "Use the code cell (or multiple code cells, if necessary) to implement the first step of your project."
   ]
  },
  {
   "cell_type": "code",
   "execution_count": 7,
   "metadata": {},
   "outputs": [],
   "source": [
    "### Preprocess the data here. It is required to normalize the data. Other preprocessing steps could include \n",
    "### converting to grayscale, etc.\n",
    "### Feel free to use as many code cells as needed.\n",
    "X_train = np.array([((img1 - 128.) / 128.) for img1 in X_train])\n",
    "X_valid = np.array([((img2 - 128.) / 128.) for img2 in X_valid])\n",
    "X_test = np.array([((img3 - 128.) / 128.) for img3 in X_test])"
   ]
  },
  {
   "cell_type": "markdown",
   "metadata": {},
   "source": [
    "### Model Architecture"
   ]
  },
  {
   "cell_type": "code",
   "execution_count": 13,
   "metadata": {},
   "outputs": [],
   "source": [
    "#SETUP\n",
    "import tensorflow as tf\n",
    "\n",
    "EPOCHS = 30\n",
    "BATCH_SIZE = 128\n",
    "\n",
    "from tensorflow.contrib.layers import flatten\n",
    "\n",
    "def TrafficSignClassifier(x):    \n",
    "    # Arguments used for tf.truncated_normal, randomly defines variables for the weights and biases for each layer\n",
    "    mu = 0\n",
    "    sigma = 0.1\n",
    "   \n",
    "    # Output depth\n",
    "    k_output = 6\n",
    "\n",
    "    # Image Properties\n",
    "    image_width = 32\n",
    "    image_height = 32\n",
    "    channels = 3\n",
    "\n",
    "    # Convolution filter\n",
    "    filter_size_width = 5\n",
    "    filter_size_height = 5\n",
    "\n",
    "    # Weight and bias\n",
    "    weight = tf.Variable(tf.truncated_normal(shape=(filter_size_height, filter_size_width, channels, k_output), mean = mu, stddev = sigma))\n",
    "    bias = tf.Variable(tf.zeros(k_output))\n",
    "\n",
    "    #Layer 1: Convolutional. Input = 32x32x3. Output = 28x28x6.\n",
    "    conv_layer = tf.nn.conv2d(x, weight, strides=[1, 1, 1, 1], padding='VALID')\n",
    "    # Add bias\n",
    "    conv_layer = tf.nn.bias_add(conv_layer, bias)\n",
    "\n",
    "    #Activation.\n",
    "    conv_layer = tf.nn.relu(conv_layer)\n",
    "    \n",
    "    #Pooling. Input = 28x28x6. Output = 14x14x6.\n",
    "    filter_shape = [1, 2, 2, 1]\n",
    "    strides = [1, 2, 2, 1]\n",
    "    padding = 'VALID'\n",
    "    pool = tf.nn.max_pool(conv_layer, filter_shape, strides, padding)\n",
    "    \n",
    "    #Layer 2: Convolutional. Output = 10x10x16.\n",
    "    k_output = 16\n",
    "    channels = 6\n",
    "    # Weight and bias\n",
    "    weight = tf.Variable(tf.truncated_normal(shape=(filter_size_height, filter_size_width, channels, k_output), mean = mu, stddev = sigma))\n",
    "    bias = tf.Variable(tf.zeros(k_output))\n",
    "    # Apply Convolution\n",
    "    conv_layer2 = tf.nn.conv2d(pool, weight, strides=[1, 1, 1, 1], padding='VALID')\n",
    "    # Add bias\n",
    "    conv_layer2 = tf.nn.bias_add(conv_layer2, bias)\n",
    "    \n",
    "    # Activation.\n",
    "    conv_layer2 = tf.nn.relu(conv_layer2)\n",
    "\n",
    "    #Pooling. Input = 10x10x16. Output = 5x5x16.\n",
    "    pool2 = tf.nn.max_pool(conv_layer2, filter_shape, strides, padding)\n",
    "    \n",
    "    #Flatten. Input = 5x5x16. Output = 400.\n",
    "    flat   = flatten(pool2)\n",
    "    \n",
    "    #Layer 3: Fully Connected. Input = 400. Output = 120.\n",
    "    fc1_W = tf.Variable(tf.truncated_normal(shape=(400, 120), mean = mu, stddev = sigma))\n",
    "    fc1_b = tf.Variable(tf.zeros(120))\n",
    "    fc1   = tf.matmul(flat, fc1_W) + fc1_b\n",
    "    \n",
    "    #Activation.\n",
    "    fc1 = tf.nn.relu(fc1)\n",
    "\n",
    "    #Layer 4: Fully Connected. Input = 120. Output = 84.\n",
    "    fc2_W  = tf.Variable(tf.truncated_normal(shape=(120, 84), mean = mu, stddev = sigma))\n",
    "    fc2_b  = tf.Variable(tf.zeros(84))\n",
    "    fc2    = tf.matmul(fc1, fc2_W) + fc2_b\n",
    "    \n",
    "    #Activation.\n",
    "    fc2 = tf.nn.relu(fc2)\n",
    "\n",
    "    #Layer 5: Fully Connected. Input = 84. Output = 43.\n",
    "    fc3_W  = tf.Variable(tf.truncated_normal(shape=(84, 43), mean = mu, stddev = sigma))\n",
    "    fc3_b  = tf.Variable(tf.zeros(43))\n",
    "    logits    = tf.matmul(fc2, fc3_W) + fc3_b\n",
    "    \n",
    "    return logits\n",
    "\n",
    "#FEATURES\n",
    "x = tf.placeholder(tf.float32, (None, 32, 32, 3))\n",
    "y = tf.placeholder(tf.int32, (None))\n",
    "one_hot_y = tf.one_hot(y, 43)"
   ]
  },
  {
   "cell_type": "markdown",
   "metadata": {},
   "source": [
    "### Train, Validate and Test the Model"
   ]
  },
  {
   "cell_type": "markdown",
   "metadata": {},
   "source": [
    "A validation set can be used to assess how well the model is performing. A low accuracy on the training and validation\n",
    "sets imply underfitting. A high accuracy on the training set but low accuracy on the validation set implies overfitting."
   ]
  },
  {
   "cell_type": "code",
   "execution_count": 14,
   "metadata": {},
   "outputs": [
    {
     "name": "stdout",
     "output_type": "stream",
     "text": [
      "Training...\n",
      "\n",
      "EPOCH 1 ...\n",
      "Validation Accuracy = 0.741\n",
      "\n",
      "EPOCH 2 ...\n",
      "Validation Accuracy = 0.844\n",
      "\n",
      "EPOCH 3 ...\n",
      "Validation Accuracy = 0.880\n",
      "\n",
      "EPOCH 4 ...\n",
      "Validation Accuracy = 0.880\n",
      "\n",
      "EPOCH 5 ...\n",
      "Validation Accuracy = 0.909\n",
      "\n",
      "EPOCH 6 ...\n",
      "Validation Accuracy = 0.892\n",
      "\n",
      "EPOCH 7 ...\n",
      "Validation Accuracy = 0.909\n",
      "\n",
      "EPOCH 8 ...\n",
      "Validation Accuracy = 0.926\n",
      "\n",
      "EPOCH 9 ...\n",
      "Validation Accuracy = 0.901\n",
      "\n",
      "EPOCH 10 ...\n",
      "Validation Accuracy = 0.915\n",
      "\n",
      "EPOCH 11 ...\n",
      "Validation Accuracy = 0.925\n",
      "\n",
      "EPOCH 12 ...\n",
      "Validation Accuracy = 0.914\n",
      "\n",
      "EPOCH 13 ...\n",
      "Validation Accuracy = 0.922\n",
      "\n",
      "EPOCH 14 ...\n",
      "Validation Accuracy = 0.925\n",
      "\n",
      "EPOCH 15 ...\n",
      "Validation Accuracy = 0.922\n",
      "\n",
      "EPOCH 16 ...\n",
      "Validation Accuracy = 0.923\n",
      "\n",
      "EPOCH 17 ...\n",
      "Validation Accuracy = 0.932\n",
      "\n",
      "EPOCH 18 ...\n",
      "Validation Accuracy = 0.925\n",
      "\n",
      "EPOCH 19 ...\n",
      "Validation Accuracy = 0.918\n",
      "\n",
      "EPOCH 20 ...\n",
      "Validation Accuracy = 0.928\n",
      "\n",
      "EPOCH 21 ...\n",
      "Validation Accuracy = 0.937\n",
      "\n",
      "EPOCH 22 ...\n",
      "Validation Accuracy = 0.927\n",
      "\n",
      "EPOCH 23 ...\n",
      "Validation Accuracy = 0.896\n",
      "\n",
      "EPOCH 24 ...\n",
      "Validation Accuracy = 0.924\n",
      "\n",
      "EPOCH 25 ...\n",
      "Validation Accuracy = 0.922\n",
      "\n",
      "EPOCH 26 ...\n",
      "Validation Accuracy = 0.930\n",
      "\n",
      "EPOCH 27 ...\n",
      "Validation Accuracy = 0.931\n",
      "\n",
      "EPOCH 28 ...\n",
      "Validation Accuracy = 0.926\n",
      "\n",
      "EPOCH 29 ...\n",
      "Validation Accuracy = 0.931\n",
      "\n",
      "EPOCH 30 ...\n",
      "Validation Accuracy = 0.929\n",
      "\n",
      "Model saved\n"
     ]
    }
   ],
   "source": [
    "### Train your model here.\n",
    "### Calculate and report the accuracy on the training and validation set.\n",
    "### Once a final model architecture is selected, \n",
    "### the accuracy on the test set should be calculated and reported as well.\n",
    "### Feel free to use as many code cells as needed.\n",
    "\n",
    "#Training Pipeline\n",
    "rate = 0.001\n",
    "\n",
    "logits = TrafficSignClassifier(x)\n",
    "cross_entropy = tf.nn.softmax_cross_entropy_with_logits(labels=one_hot_y, logits=logits)\n",
    "loss_operation = tf.reduce_mean(cross_entropy)\n",
    "optimizer = tf.train.AdamOptimizer(learning_rate = rate)\n",
    "training_operation = optimizer.minimize(loss_operation)\n",
    "\n",
    "#Model Evaluation\n",
    "correct_prediction = tf.equal(tf.argmax(logits, 1), tf.argmax(one_hot_y, 1))\n",
    "accuracy_operation = tf.reduce_mean(tf.cast(correct_prediction, tf.float32))\n",
    "saver = tf.train.Saver()\n",
    "\n",
    "def evaluate(X_data, y_data):\n",
    "    num_examples = len(X_data)\n",
    "    total_accuracy = 0\n",
    "    sess = tf.get_default_session()\n",
    "    for offset in range(0, num_examples, BATCH_SIZE):\n",
    "        batch_x, batch_y = X_data[offset:offset+BATCH_SIZE], y_data[offset:offset+BATCH_SIZE]\n",
    "        accuracy = sess.run(accuracy_operation, feed_dict={x: batch_x, y: batch_y})\n",
    "        total_accuracy += (accuracy * len(batch_x))\n",
    "    return total_accuracy / num_examples\n",
    "\n",
    "#TRAIN MODEL\n",
    "from sklearn.utils import shuffle\n",
    "\n",
    "with tf.Session() as sess:\n",
    "    sess.run(tf.global_variables_initializer())\n",
    "    num_examples = len(X_train)\n",
    "    \n",
    "    print(\"Training...\")\n",
    "    print()\n",
    "    for i in range(EPOCHS):\n",
    "        X_train, y_train = shuffle(X_train, y_train)\n",
    "        for offset in range(0, num_examples, BATCH_SIZE):\n",
    "            end = offset + BATCH_SIZE\n",
    "            batch_x, batch_y = X_train[offset:end], y_train[offset:end]\n",
    "            sess.run(training_operation, feed_dict={x: batch_x, y: batch_y})\n",
    "            \n",
    "        validation_accuracy = evaluate(X_valid, y_valid)\n",
    "        print(\"EPOCH {} ...\".format(i+1))\n",
    "        print(\"Validation Accuracy = {:.3f}\".format(validation_accuracy))\n",
    "        print()\n",
    "        \n",
    "    saver.save(sess, './lenet')\n",
    "    print(\"Model saved\")"
   ]
  },
  {
   "cell_type": "markdown",
   "metadata": {},
   "source": [
    "---\n",
    "\n",
    "## Step 3: Test a Model on New Images\n",
    "\n",
    "To give yourself more insight into how your model is working, download at least five pictures of German traffic signs from the web and use your model to predict the traffic sign type.\n",
    "\n",
    "You may find `signnames.csv` useful as it contains mappings from the class id (integer) to the actual sign name."
   ]
  },
  {
   "cell_type": "markdown",
   "metadata": {},
   "source": [
    "### Load and Output the Images"
   ]
  },
  {
   "cell_type": "code",
   "execution_count": 59,
   "metadata": {},
   "outputs": [
    {
     "data": {
      "image/png": "[encoded data removed]",
      "text/plain": [
       "<matplotlib.figure.Figure at 0x163e8dfac8>"
      ]
     },
     "metadata": {},
     "output_type": "display_data"
    }
   ],
   "source": [
    "import os\n",
    "import cv2\n",
    "test_image_dir = './GTSRB_Images/'\n",
    "samples = 5\n",
    "\n",
    "# loading images names\n",
    "test_images = sorted(os.listdir(test_image_dir), key=lambda img: int(img.split('.')[0]))\n",
    "\n",
    "#Shuffling images\n",
    "#test_images = shuffle(test_images)\n",
    "\n",
    "# extracting the image types from their filenames\n",
    "y_new = np.array([int(img.split('.')[0]) for img in test_images])\n",
    "\n",
    "# converting the images\n",
    "X_new0 = np.array([cv2.resize(plt.imread(test_image_dir + img), (32, 32)) for img in test_images])\n",
    "\n",
    "# normalizing the images\n",
    "X_new = np.array([((img - 128.) / 128.) for img in X_new0])\n",
    "\n",
    "# ploting the images\n",
    "plt.figure(1, figsize=(48,48))\n",
    "for i in range(samples):\n",
    "    plt.subplot(1, samples, i+1)\n",
    "    plt.imshow(X_new0[i, :, :, :])\n",
    "    plt.axis('off')\n",
    "    \n",
    "plt.tight_layout(pad=0., w_pad=0., h_pad=1.0)"
   ]
  },
  {
   "cell_type": "markdown",
   "metadata": {},
   "source": [
    "### Predict the Sign Type for Each Image"
   ]
  },
  {
   "cell_type": "code",
   "execution_count": 52,
   "metadata": {},
   "outputs": [
    {
     "name": "stdout",
     "output_type": "stream",
     "text": [
      "Image 1 ...\n",
      "Prediction = 18.000\n",
      "\n",
      "Image 2 ...\n",
      "Prediction = 95.000\n",
      "\n",
      "Image 3 ...\n",
      "Prediction = 15.000\n",
      "\n",
      "Image 4 ...\n",
      "Prediction = 2.000\n",
      "\n",
      "Image 5 ...\n",
      "Prediction = 101.000\n",
      "\n"
     ]
    }
   ],
   "source": [
    "### Run the predictions here and use the model to output the prediction for each image.\n",
    "### Make sure to pre-process the images with the same pre-processing pipeline used earlier.\n",
    "### Feel free to use as many code cells as needed.\n",
    "with tf.Session() as sess:\n",
    "    saver.restore(sess,'./lenet')\n",
    "    for i in range(samples):\n",
    "        pred = sess.run(training_operation, feed_dict={x: X_new, y: y_new})\n",
    "        print(\"Image {} ...\".format(i+1))\n",
    "        print(\"Prediction = {:.3f}\".format(y_new[i]))\n",
    "        print()"
   ]
  },
  {
   "cell_type": "markdown",
   "metadata": {},
   "source": [
    "### Analyze Performance"
   ]
  },
  {
   "cell_type": "code",
   "execution_count": 53,
   "metadata": {},
   "outputs": [
    {
     "name": "stdout",
     "output_type": "stream",
     "text": [
      "\n",
      "New Images Accuracy = 0.008\n"
     ]
    }
   ],
   "source": [
    "### Calculate the accuracy for these 5 new images. \n",
    "### For example, if the model predicted 1 out of 5 signs correctly, it's 20% accurate on these new images.\n",
    "with tf.Session() as sess:\n",
    "    saver.restore(sess,'./lenet')\n",
    "    new_accuracy = evaluate(X_new, y_new)\n",
    "    print()\n",
    "    print(\"New Images Accuracy = {:.3f}\".format(new_accuracy))"
   ]
  },
  {
   "cell_type": "markdown",
   "metadata": {},
   "source": [
    "### Output Top 5 Softmax Probabilities For Each Image Found on the Web"
   ]
  },
  {
   "cell_type": "markdown",
   "metadata": {},
   "source": [
    "For each of the new images, print out the model's softmax probabilities to show the **certainty** of the model's predictions (limit the output to the top 5 probabilities for each image). [`tf.nn.top_k`](https://www.tensorflow.org/versions/r0.12/api_docs/python/nn.html#top_k) could prove helpful here. \n",
    "\n",
    "The example below demonstrates how tf.nn.top_k can be used to find the top k predictions for each image.\n",
    "\n",
    "`tf.nn.top_k` will return the values and indices (class ids) of the top k predictions. So if k=3, for each sign, it'll return the 3 largest probabilities (out of a possible 43) and the correspoding class ids.\n",
    "\n",
    "Take this numpy array as an example. The values in the array represent predictions. The array contains softmax probabilities for five candidate images with six possible classes. `tf.nn.top_k` is used to choose the three classes with the highest probability:\n",
    "\n",
    "```\n",
    "# (5, 6) array\n",
    "a = np.array([[ 0.24879643,  0.07032244,  0.12641572,  0.34763842,  0.07893497,\n",
    "         0.12789202],\n",
    "       [ 0.28086119,  0.27569815,  0.08594638,  0.0178669 ,  0.18063401,\n",
    "         0.15899337],\n",
    "       [ 0.26076848,  0.23664738,  0.08020603,  0.07001922,  0.1134371 ,\n",
    "         0.23892179],\n",
    "       [ 0.11943333,  0.29198961,  0.02605103,  0.26234032,  0.1351348 ,\n",
    "         0.16505091],\n",
    "       [ 0.09561176,  0.34396535,  0.0643941 ,  0.16240774,  0.24206137,\n",
    "         0.09155967]])\n",
    "```\n",
    "\n",
    "Running it through `sess.run(tf.nn.top_k(tf.constant(a), k=3))` produces:\n",
    "\n",
    "```\n",
    "TopKV2(values=array([[ 0.34763842,  0.24879643,  0.12789202],\n",
    "       [ 0.28086119,  0.27569815,  0.18063401],\n",
    "       [ 0.26076848,  0.23892179,  0.23664738],\n",
    "       [ 0.29198961,  0.26234032,  0.16505091],\n",
    "       [ 0.34396535,  0.24206137,  0.16240774]]), indices=array([[3, 0, 5],\n",
    "       [0, 1, 4],\n",
    "       [0, 5, 1],\n",
    "       [1, 3, 5],\n",
    "       [1, 4, 3]], dtype=int32))\n",
    "```\n",
    "\n",
    "Looking just at the first row we get `[ 0.34763842,  0.24879643,  0.12789202]`, you can confirm these are the 3 largest probabilities in `a`. You'll also notice `[3, 0, 5]` are the corresponding indices."
   ]
  },
  {
   "cell_type": "code",
   "execution_count": 55,
   "metadata": {},
   "outputs": [
    {
     "name": "stdout",
     "output_type": "stream",
     "text": [
      "\n",
      "[[  9.99178e-01   8.17692e-04   4.81412e-06   9.64546e-09   1.67863e-09]\n",
      " [  9.99972e-01   2.76084e-05   3.32323e-07   2.52037e-08   1.19704e-08]\n",
      " [  1.00000e+00   1.10901e-07   6.08155e-08   9.56308e-11   3.09654e-12]\n",
      " [  1.00000e+00   1.38944e-32   2.59403e-34   1.07666e-35   6.04808e-36]\n",
      " [  1.00000e+00   1.02821e-16   9.11381e-19   6.27568e-22   7.84984e-23]\n",
      " [  9.99982e-01   1.37668e-05   4.22423e-06   1.09353e-08   3.89390e-09]\n",
      " [  9.99106e-01   8.93837e-04   9.16148e-09   5.98343e-09   4.33650e-09]\n",
      " [  1.00000e+00   4.06144e-11   3.02693e-15   3.17408e-22   1.47859e-23]\n",
      " [  9.98734e-01   1.20676e-03   3.59929e-05   7.97091e-06   4.15081e-06]\n",
      " [  1.00000e+00   9.58429e-28   4.58220e-28   2.54967e-31   6.95574e-37]\n",
      " [  6.20174e-01   3.17966e-01   2.81000e-02   2.69914e-02   5.18373e-03]\n",
      " [  1.00000e+00   3.81629e-12   2.99701e-14   2.31829e-14   1.52421e-19]\n",
      " [  1.00000e+00   2.14061e-21   6.83831e-27   8.01196e-33   6.43101e-33]\n",
      " [  1.00000e+00   1.17556e-08   3.81425e-10   2.48659e-11   1.45456e-11]\n",
      " [  1.00000e+00   2.89766e-08   1.13144e-12   6.88856e-13   7.23852e-14]\n",
      " [  1.00000e+00   2.23726e-09   1.96367e-09   7.32031e-10   2.08088e-11]\n",
      " [  9.99789e-01   2.08909e-04   2.02882e-06   5.41349e-07   3.86431e-08]\n",
      " [  7.41962e-01   1.56048e-01   5.20674e-02   3.56436e-02   4.82508e-03]\n",
      " [  8.85653e-01   1.13063e-01   5.60123e-04   3.98030e-04   2.87799e-04]\n",
      " [  9.99796e-01   1.52956e-04   2.98956e-05   8.46052e-06   3.57371e-06]\n",
      " [  9.98230e-01   9.23977e-04   5.35806e-04   2.92752e-04   1.35052e-05]\n",
      " [  1.00000e+00   4.25836e-07   7.96478e-10   1.87084e-12   1.31407e-12]\n",
      " [  1.00000e+00   1.74777e-11   3.65014e-15   1.50900e-16   4.39106e-18]\n",
      " [  1.00000e+00   1.61354e-07   1.42521e-07   1.27976e-07   8.08234e-08]\n",
      " [  1.00000e+00   3.75837e-17   1.00061e-18   2.81649e-19   2.76998e-19]\n",
      " [  3.89133e-01   3.14442e-01   1.03870e-01   9.82856e-02   4.32507e-02]\n",
      " [  9.99810e-01   1.45341e-04   4.40947e-05   9.12467e-07   4.24027e-08]\n",
      " [  1.00000e+00   1.07182e-18   2.26366e-20   1.51003e-24   6.08296e-25]\n",
      " [  9.93707e-01   6.26912e-03   2.43536e-05   5.85143e-09   2.28370e-10]\n",
      " [  1.00000e+00   8.30488e-16   1.94399e-16   4.52990e-22   2.29575e-24]\n",
      " [  9.26513e-01   7.34866e-02   5.76764e-08   3.07769e-09   6.43720e-12]\n",
      " [  1.00000e+00   3.03092e-25   5.01911e-26   6.87507e-32   5.06118e-33]\n",
      " [  1.00000e+00   4.36213e-07   1.74181e-09   3.76830e-14   1.20511e-14]\n",
      " [  9.83224e-01   1.67384e-02   3.77540e-05   1.71575e-08   8.41618e-09]\n",
      " [  1.00000e+00   5.41234e-12   1.82492e-12   4.39080e-13   5.79833e-14]\n",
      " [  1.00000e+00   9.86287e-10   8.53136e-17   1.88684e-17   1.94487e-19]\n",
      " [  1.00000e+00   2.63431e-10   8.70966e-11   1.83201e-11   1.40842e-11]\n",
      " [  1.00000e+00   5.77440e-13   4.76916e-18   1.73549e-19   8.22538e-21]\n",
      " [  1.00000e+00   2.73033e-10   2.55890e-10   1.63085e-10   1.62620e-10]\n",
      " [  9.99998e-01   2.18325e-06   1.25417e-07   4.14520e-09   3.16241e-09]\n",
      " [  9.99950e-01   3.18866e-05   1.80640e-05   9.25374e-08   3.23918e-08]\n",
      " [  1.00000e+00   2.01756e-08   4.74867e-09   1.68764e-11   3.40300e-12]\n",
      " [  1.00000e+00   5.78029e-11   5.19178e-12   2.69044e-13   3.58305e-14]\n",
      " [  1.00000e+00   1.32014e-09   1.03258e-15   1.15932e-22   3.61756e-23]\n",
      " [  1.00000e+00   1.67067e-07   2.91343e-08   9.01297e-09   1.65809e-09]\n",
      " [  1.00000e+00   1.86434e-24   5.22392e-28   6.25199e-32   4.00159e-36]\n",
      " [  1.00000e+00   3.10217e-10   9.86012e-11   2.18794e-17   2.48300e-18]\n",
      " [  9.94389e-01   5.60088e-03   9.84751e-06   9.14051e-10   9.02801e-10]\n",
      " [  1.00000e+00   7.95905e-16   6.12393e-20   3.98971e-20   4.64222e-25]\n",
      " [  1.00000e+00   1.63487e-09   5.31318e-14   3.34962e-14   2.47041e-14]\n",
      " [  8.63547e-01   1.33898e-01   1.08566e-03   5.05336e-04   3.70017e-04]\n",
      " [  9.99982e-01   1.78397e-05   1.36997e-08   1.11115e-08   3.47760e-09]\n",
      " [  1.00000e+00   2.83412e-08   4.79611e-10   3.10330e-10   1.64387e-12]\n",
      " [  1.00000e+00   9.53855e-21   5.30461e-22   4.00426e-25   3.30014e-33]\n",
      " [  9.99828e-01   1.71539e-04   2.58108e-09   1.73109e-11   1.05274e-15]\n",
      " [  9.99162e-01   8.19067e-04   1.85590e-05   6.46546e-07   5.67911e-08]\n",
      " [  9.99994e-01   5.76623e-06   1.38156e-08   9.55836e-10   1.99772e-10]\n",
      " [  1.00000e+00   1.08916e-12   7.06475e-19   2.15924e-22   1.65053e-23]\n",
      " [  1.00000e+00   2.27919e-15   7.17826e-17   2.58267e-24   9.45595e-28]\n",
      " [  1.00000e+00   5.92492e-11   1.35618e-11   3.20527e-12   7.49973e-13]\n",
      " [  9.99999e-01   6.46594e-07   6.79261e-08   2.82873e-08   3.82081e-09]\n",
      " [  1.00000e+00   6.32891e-09   8.06048e-12   5.13797e-16   4.46054e-16]\n",
      " [  1.00000e+00   4.20544e-09   1.04572e-11   8.10869e-18   4.55484e-19]\n",
      " [  1.00000e+00   5.47740e-12   4.26119e-12   2.41836e-13   5.21571e-16]\n",
      " [  9.99989e-01   1.09339e-05   8.97200e-10   6.43328e-10   2.48300e-12]\n",
      " [  1.00000e+00   7.37949e-26   4.40933e-31   5.59459e-32   9.36649e-35]\n",
      " [  9.99994e-01   3.00451e-06   2.54078e-06   1.01237e-07   1.34788e-11]\n",
      " [  1.00000e+00   3.92817e-13   1.83593e-20   5.28419e-22   2.92499e-22]\n",
      " [  1.00000e+00   4.77186e-14   8.10035e-15   9.34349e-16   5.56804e-17]\n",
      " [  1.00000e+00   3.20127e-12   1.45100e-14   1.74600e-17   4.37958e-21]\n",
      " [  1.00000e+00   2.73372e-07   8.66791e-11   1.95917e-11   2.05708e-12]\n",
      " [  9.82026e-01   1.79736e-02   1.23706e-09   1.54709e-10   8.76958e-13]\n",
      " [  1.00000e+00   8.20725e-16   3.82005e-21   7.29400e-23   4.42841e-23]\n",
      " [  1.00000e+00   9.57043e-09   4.35541e-09   6.91864e-12   4.06974e-12]\n",
      " [  1.00000e+00   4.39307e-13   7.93764e-16   4.83546e-17   1.28113e-25]\n",
      " [  9.99985e-01   1.38979e-05   1.62576e-06   3.95327e-10   2.87900e-10]\n",
      " [  1.00000e+00   1.16607e-12   8.21840e-17   2.50135e-23   7.91168e-24]\n",
      " [  4.90126e-01   4.55052e-01   3.91931e-02   1.55477e-02   8.01883e-05]\n",
      " [  1.00000e+00   2.47006e-08   4.50222e-11   2.91980e-11   2.55351e-11]\n",
      " [  1.00000e+00   2.39830e-14   1.37881e-17   5.07540e-21   3.07237e-21]\n",
      " [  1.00000e+00   1.56022e-11   1.21060e-16   5.97602e-20   8.62137e-22]\n",
      " [  1.00000e+00   3.34100e-21   4.32867e-22   1.96043e-22   6.15589e-24]\n",
      " [  1.00000e+00   8.04640e-10   5.87459e-10   4.46660e-14   5.13786e-19]\n",
      " [  1.00000e+00   2.82686e-15   2.34938e-15   1.05679e-15   9.74478e-18]\n",
      " [  1.00000e+00   1.14107e-16   2.46126e-18   1.52512e-22   1.54456e-24]\n",
      " [  9.65011e-01   1.35095e-02   1.25823e-02   8.89599e-03   3.02836e-07]\n",
      " [  9.98682e-01   4.00903e-04   2.95463e-04   2.67320e-04   1.31887e-04]\n",
      " [  1.00000e+00   2.36873e-11   5.44686e-12   1.47436e-12   1.40331e-12]\n",
      " [  1.00000e+00   2.38607e-08   3.78081e-10   6.93731e-11   3.82108e-11]\n",
      " [  1.00000e+00   6.25983e-20   2.31493e-20   1.07277e-22   7.91304e-23]\n",
      " [  9.99116e-01   8.82468e-04   6.77075e-07   1.72064e-07   1.63028e-07]\n",
      " [  9.99487e-01   5.03090e-04   4.92752e-06   3.87886e-06   6.23632e-07]\n",
      " [  9.95317e-01   3.32502e-03   1.35549e-03   1.53957e-06   6.19527e-07]\n",
      " [  1.00000e+00   3.45755e-09   3.39480e-09   4.59607e-12   4.61634e-15]\n",
      " [  1.00000e+00   5.57362e-09   1.59410e-11   3.63720e-12   3.42142e-13]\n",
      " [  3.95762e-01   2.41159e-01   1.03568e-01   9.29987e-02   7.69068e-02]\n",
      " [  1.00000e+00   8.24455e-11   8.34321e-15   1.95409e-20   6.95584e-24]\n",
      " [  9.99996e-01   4.31542e-06   1.00857e-09   4.38706e-11   3.25288e-11]\n",
      " [  9.98630e-01   6.11049e-04   3.39647e-04   3.02589e-04   8.51742e-05]\n",
      " [  9.99999e-01   4.31254e-07   2.82682e-07   1.74014e-09   6.68525e-10]\n",
      " [  9.98353e-01   1.21240e-03   3.53946e-04   5.54369e-05   2.30815e-05]\n",
      " [  9.99416e-01   5.84482e-04   4.72706e-08   4.79851e-10   3.42269e-10]\n",
      " [  1.00000e+00   3.32881e-09   7.09012e-10   5.06940e-10   1.51367e-10]\n",
      " [  1.00000e+00   7.51673e-15   6.23040e-15   3.18653e-15   1.98674e-17]\n",
      " [  1.00000e+00   1.02560e-16   9.12715e-17   4.32181e-19   1.36312e-23]\n",
      " [  1.00000e+00   5.24739e-08   1.79572e-08   5.47549e-09   2.43051e-09]\n",
      " [  9.99999e-01   1.04001e-06   1.94531e-09   1.66749e-09   4.71351e-10]\n",
      " [  9.99697e-01   2.22804e-04   7.32213e-05   4.91911e-06   1.21229e-06]\n",
      " [  9.99997e-01   2.76330e-06   5.63296e-08   1.83674e-08   1.06449e-11]\n",
      " [  9.99996e-01   1.90563e-06   1.88861e-06   2.74299e-07   5.49875e-08]\n",
      " [  9.99990e-01   1.00980e-05   3.87202e-09   1.03704e-10   5.17215e-11]\n",
      " [  1.00000e+00   1.52014e-18   1.21232e-22   5.74187e-26   2.96471e-27]\n",
      " [  1.00000e+00   6.63561e-11   1.11506e-19   4.64028e-22   2.41598e-22]\n",
      " [  1.00000e+00   2.82915e-12   3.47222e-13   5.43064e-14   2.44921e-14]\n",
      " [  1.00000e+00   1.41982e-21   1.15078e-22   1.56166e-26   2.81101e-29]\n",
      " [  1.00000e+00   6.26899e-11   3.82632e-11   3.42936e-11   9.75612e-12]\n",
      " [  9.99973e-01   2.57109e-05   5.59028e-07   2.56035e-07   5.35343e-09]\n",
      " [  9.99935e-01   4.33855e-05   1.50417e-05   4.27911e-06   2.55545e-06]\n",
      " [  1.00000e+00   5.91308e-19   4.84633e-27   3.35747e-28   6.55337e-29]\n",
      " [  1.00000e+00   7.24002e-10   6.55331e-15   4.86082e-16   2.57132e-18]\n",
      " [  9.92858e-01   6.54962e-03   5.03842e-04   7.82253e-05   9.41071e-06]\n",
      " [  9.92946e-01   4.64226e-03   2.33680e-03   5.31791e-05   1.83007e-05]\n",
      " [  9.99821e-01   1.78191e-04   3.42785e-07   1.92039e-07   1.67343e-09]\n",
      " [  1.00000e+00   7.05163e-12   2.06424e-12   1.38004e-15   9.57374e-18]\n",
      " [  1.00000e+00   1.77053e-29   3.58908e-31   1.72979e-33   1.60737e-33]]\n"
     ]
    }
   ],
   "source": [
    "### Print out the top five softmax probabilities for the predictions on the German traffic sign images found on the web. \n",
    "### Feel free to use as many code cells as needed.\n",
    "with tf.Session() as sess:\n",
    "    saver.restore(sess,'./lenet')\n",
    "    \n",
    "    softmaxes = sess.run(tf.nn.softmax(logits), feed_dict={x: X_new, y:y_new})\n",
    "    \n",
    "    values, indices = sess.run(tf.nn.top_k(softmaxes, k=5))\n",
    "    \n",
    "np.set_printoptions(precision=5)\n",
    "print('\\n' + str(values))"
   ]
  },
  {
   "cell_type": "markdown",
   "metadata": {},
   "source": [
    "### Project Writeup\n",
    "\n",
    "Once you have completed the code implementation, document your results in a project writeup using this [template](https://github.com/udacity/CarND-Traffic-Sign-Classifier-Project/blob/master/writeup_template.md) as a guide. The writeup can be in a markdown or pdf file. "
   ]
  },
  {
   "cell_type": "markdown",
   "metadata": {},
   "source": [
    "> **Note**: Once you have completed all of the code implementations and successfully answered each question above, you may finalize your work by exporting the iPython Notebook as an HTML document. You can do this by using the menu above and navigating to  \\n\",\n",
    "    \"**File -> Download as -> HTML (.html)**. Include the finished document along with this notebook as your submission."
   ]
  },
  {
   "cell_type": "markdown",
   "metadata": {},
   "source": [
    "---\n",
    "\n",
    "## Step 4 (Optional): Visualize the Neural Network's State with Test Images\n",
    "\n",
    " This Section is not required to complete but acts as an additional excersise for understaning the output of a neural network's weights. While neural networks can be a great learning device they are often referred to as a black box. We can understand what the weights of a neural network look like better by plotting their feature maps. After successfully training your neural network you can see what it's feature maps look like by plotting the output of the network's weight layers in response to a test stimuli image. From these plotted feature maps, it's possible to see what characteristics of an image the network finds interesting. For a sign, maybe the inner network feature maps react with high activation to the sign's boundary outline or to the contrast in the sign's painted symbol.\n",
    "\n",
    " Provided for you below is the function code that allows you to get the visualization output of any tensorflow weight layer you want. The inputs to the function should be a stimuli image, one used during training or a new one you provided, and then the tensorflow variable name that represents the layer's state during the training process, for instance if you wanted to see what the [LeNet lab's](https://classroom.udacity.com/nanodegrees/nd013/parts/fbf77062-5703-404e-b60c-95b78b2f3f9e/modules/6df7ae49-c61c-4bb2-a23e-6527e69209ec/lessons/601ae704-1035-4287-8b11-e2c2716217ad/concepts/d4aca031-508f-4e0b-b493-e7b706120f81) feature maps looked like for it's second convolutional layer you could enter conv2 as the tf_activation variable.\n",
    "\n",
    "For an example of what feature map outputs look like, check out NVIDIA's results in their paper [End-to-End Deep Learning for Self-Driving Cars](https://devblogs.nvidia.com/parallelforall/deep-learning-self-driving-cars/) in the section Visualization of internal CNN State. NVIDIA was able to show that their network's inner weights had high activations to road boundary lines by comparing feature maps from an image with a clear path to one without. Try experimenting with a similar test to show that your trained network's weights are looking for interesting features, whether it's looking at differences in feature maps from images with or without a sign, or even what feature maps look like in a trained network vs a completely untrained one on the same sign image.\n",
    "\n",
    "<figure>\n",
    " <img src=\"visualize_cnn.png\" width=\"380\" alt=\"Combined Image\" />\n",
    " <figcaption>\n",
    " <p></p> \n",
    " <p style=\"text-align: center;\"> Your output should look something like this (above)</p> \n",
    " </figcaption>\n",
    "</figure>\n",
    " <p></p> \n"
   ]
  },
  {
   "cell_type": "code",
   "execution_count": 56,
   "metadata": {},
   "outputs": [],
   "source": [
    "### Visualize your network's feature maps here.\n",
    "### Feel free to use as many code cells as needed.\n",
    "\n",
    "# image_input: the test image being fed into the network to produce the feature maps\n",
    "# tf_activation: should be a tf variable name used during your training procedure that represents the calculated state of a specific weight layer\n",
    "# activation_min/max: can be used to view the activation contrast in more detail, by default matplot sets min and max to the actual min and max values of the output\n",
    "# plt_num: used to plot out multiple different weight feature map sets on the same block, just extend the plt number for each new feature map entry\n",
    "\n",
    "def outputFeatureMap(image_input, tf_activation, activation_min=-1, activation_max=-1 ,plt_num=1):\n",
    "    # Here make sure to preprocess your image_input in a way your network expects\n",
    "    # with size, normalization, ect if needed\n",
    "    # image_input =\n",
    "    # Note: x should be the same name as your network's tensorflow data placeholder variable\n",
    "    # If you get an error tf_activation is not defined it may be having trouble accessing the variable from inside a function\n",
    "    activation = tf_activation.eval(session=sess,feed_dict={x : image_input})\n",
    "    featuremaps = activation.shape[3]\n",
    "    plt.figure(plt_num, figsize=(15,15))\n",
    "    for featuremap in range(featuremaps):\n",
    "        plt.subplot(6,8, featuremap+1) # sets the number of feature maps to show on each row and column\n",
    "        plt.title('FeatureMap ' + str(featuremap)) # displays the feature map number\n",
    "        if activation_min != -1 & activation_max != -1:\n",
    "            plt.imshow(activation[0,:,:, featuremap], interpolation=\"nearest\", vmin =activation_min, vmax=activation_max, cmap=\"gray\")\n",
    "        elif activation_max != -1:\n",
    "            plt.imshow(activation[0,:,:, featuremap], interpolation=\"nearest\", vmax=activation_max, cmap=\"gray\")\n",
    "        elif activation_min !=-1:\n",
    "            plt.imshow(activation[0,:,:, featuremap], interpolation=\"nearest\", vmin=activation_min, cmap=\"gray\")\n",
    "        else:\n",
    "            plt.imshow(activation[0,:,:, featuremap], interpolation=\"nearest\", cmap=\"gray\")"
   ]
  },
  {
   "cell_type": "code",
   "execution_count": 60,
   "metadata": {},
   "outputs": [
    {
     "data": {
      "image/png": "[encoded data removed]",
      "text/plain": [
       "<matplotlib.figure.Figure at 0x15c2067240>"
      ]
     },
     "metadata": {},
     "output_type": "display_data"
    }
   ],
   "source": [
    "import os\n",
    "import cv2\n",
    "test_image_dir = './GTSRB_Images/'\n",
    "samples = 5\n",
    "\n",
    "# loading images names\n",
    "test_images = sorted(os.listdir(test_image_dir), key=lambda img: int(img.split('.')[0]))\n",
    "\n",
    "# extracting the image types from their filenames\n",
    "y_new = np.array([int(img.split('.')[0]) for img in test_images])\n",
    "\n",
    "# converting the images\n",
    "X_new0 = np.array([cv2.resize(plt.imread(test_image_dir + img), (32, 32)) for img in test_images])\n",
    "\n",
    "# ploting the images\n",
    "plt.figure(1, figsize=(48,48))\n",
    "for i in range(samples):\n",
    "    plt.subplot(1, samples, i+1)\n",
    "    plt.imshow(X_new0[i, :, :, :])\n",
    "    plt.axis('off')\n",
    "    \n",
    "plt.tight_layout(pad=0., w_pad=0., h_pad=1.0)"
   ]
  },
  {
   "cell_type": "code",
   "execution_count": null,
   "metadata": {},
   "outputs": [],
   "source": []
  }
 ],
 "metadata": {
  "anaconda-cloud": {},
  "kernelspec": {
   "display_name": "Python 3",
   "language": "python",
   "name": "python3"
  },
  "language_info": {
   "codemirror_mode": {
    "name": "ipython",
    "version": 3
   },
   "file_extension": ".py",
   "mimetype": "text/x-python",
   "name": "python",
   "nbconvert_exporter": "python",
   "pygments_lexer": "ipython3",
   "version": "3.5.2"
  },
  "widgets": {
   "state": {},
   "version": "1.1.2"
  }
 },
 "nbformat": 4,
 "nbformat_minor": 1
}
